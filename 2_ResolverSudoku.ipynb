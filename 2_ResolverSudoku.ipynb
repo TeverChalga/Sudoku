{
 "cells": [
  {
   "cell_type": "markdown",
   "id": "f610ceee-65c6-4491-8fea-dcb626cf072f",
   "metadata": {},
   "source": [
    "<h1>Bienvenido al cuaderno para comprender cómo resolvemos los Sudokus</h1>\n",
    "Este cuaderno Jupyter y el resto con los que vamos a trabajar con Sudokus nos van a ayudar a mostrar a tratar de resolverlos utilizando diferentes técnicas. El <b>objetivo</b> es comprender cómo podemos <b>diseñar un algoritmo</b> para resolver el Sudoku y luego poder comparar este algoritmo con otros tipos de estrategias.\n",
    "\n",
    "<h2>Qué 3 condiciones debe cumplir un Sudoku bien resuelto</h2>\n",
    "<ul>\n",
    "    <li>No se puede repetir ningún número del 1 al 9 en ninguna columna</li>\n",
    "    <li>No se puede repetir ningún número del 1 al 9 en ninguna fila</li>\n",
    "    <li>No se puede repetir ningún número del 1 al 9 en ningún tablero</li>\n",
    "</ul>\n",
    "Si un Sudoku cumple estas 3 condiciones lo podemos considerar como <b>bien resuelto</b>. A continuación puedes ver un ejemplo de cómo se vería la matriz del Sudoku por la salida estándar (consola) y cómo se verían el Tablero 1 y el Tablero 9 de ese mismo Sudoku.\n",
    "<br><br>"
   ]
  },
  {
   "cell_type": "code",
   "execution_count": 31,
   "id": "e9deebe1-6f53-4689-84da-69c4514e6a56",
   "metadata": {},
   "outputs": [
    {
     "name": "stdout",
     "output_type": "stream",
     "text": [
      "Sudoku\n",
      "------------------\n",
      "[6, 1, 3, 7, 2, 8, 5, 4, 9]\n",
      "[2, 5, 7, 9, 4, 6, 8, 3, 1]\n",
      "[9, 8, 4, 1, 3, 5, 6, 7, 2]\n",
      "[5, 6, 1, 4, 7, 3, 9, 2, 8]\n",
      "[3, 7, 8, 2, 6, 9, 4, 1, 5]\n",
      "[4, 2, 9, 5, 8, 1, 7, 6, 3]\n",
      "[7, 4, 5, 8, 1, 2, 3, 9, 6]\n",
      "[1, 9, 6, 3, 5, 7, 2, 8, 4]\n",
      "[8, 3, 2, 6, 9, 4, 1, 5, 7]\n",
      "\n",
      "Tablero 1\n",
      "------------------\n",
      "[6, 1, 3]\n",
      "[2, 5, 7]\n",
      "[9, 8, 4]\n",
      "\n",
      "Tablero 9\n",
      "------------------\n",
      "[3, 9, 6]\n",
      "[2, 8, 4]\n",
      "[1, 5, 7]\n"
     ]
    }
   ],
   "source": [
    "# Definir la matriz de Sudoku de ejemplo\n",
    "sudoku = [\n",
    "    [6, 1, 3, 7, 2, 8, 5, 4, 9],\n",
    "    [2, 5, 7, 9, 4, 6, 8, 3, 1],\n",
    "    [9, 8, 4, 1, 3, 5, 6, 7, 2],\n",
    "    [5, 6, 1, 4, 7, 3, 9, 2, 8],\n",
    "    [3, 7, 8, 2, 6, 9, 4, 1, 5],\n",
    "    [4, 2, 9, 5, 8, 1, 7, 6, 3],\n",
    "    [7, 4, 5, 8, 1, 2, 3, 9, 6],\n",
    "    [1, 9, 6, 3, 5, 7, 2, 8, 4],\n",
    "    [8, 3, 2, 6, 9, 4, 1, 5, 7]\n",
    "]\n",
    "\n",
    "# Tablero 1 del Sudoku anterior\n",
    "tablero1 = [\n",
    "    [6, 1, 3],\n",
    "    [2, 5, 7],\n",
    "    [9, 8, 4]\n",
    "]\n",
    "\n",
    "tablero9 = [\n",
    "    [3, 9, 6],\n",
    "    [2, 8, 4],\n",
    "    [1, 5, 7]\n",
    "]\n",
    "\n",
    "# Mostrar el Sudoku de forma legible con saltos de línea\n",
    "print(\"Sudoku\")\n",
    "print(\"------------------\")\n",
    "for fila in sudoku:\n",
    "    print(fila)\n",
    "\n",
    "# Mostrar el Tablero 1 de forma legible con saltos de línea\n",
    "print(\"\\nTablero 1\")\n",
    "print(\"------------------\")\n",
    "for fila in tablero1:\n",
    "    print(fila)\n",
    "\n",
    "# Mostrar el Tablero 9 de forma legible con saltos de línea\n",
    "print(\"\\nTablero 9\")\n",
    "print(\"------------------\")\n",
    "for fila in tablero9:\n",
    "    print(fila)"
   ]
  },
  {
   "cell_type": "markdown",
   "id": "d94d4020-7c0c-445a-994e-1264bded2efc",
   "metadata": {},
   "source": [
    "<h2>Cómo calcular que una fila, columna o tablero está bien resuelto</h2>\n",
    "Hay una serie de datos curiosos que podríamos utilizar a la hora de saber si una fila, columna o tablero está resuelto:\n",
    "<ol>\n",
    "    <li>Cada fila, columna y tablero está compuestos de 9 números</li>\n",
    "    <li>Tinen que ser números del 1 al 9 sin repetir</li>\n",
    "</ol>\n",
    "<br>\n",
    "Vamos a usar 2 estrategias a la hora de saber si las filas, columnas o tableros están bien resueltos:\n",
    "<ul>\n",
    "    <li>Revisar si un número está repetido en la lista</li>\n",
    "    <li>Utilizar los conjuntos de Python y comparar el conjunto [1,2,3,4,5,6,7,8,9] con el que usamos</li>\n",
    "</ul>\n",
    "Vamos a ver con el código para analizar cómo funciona cada estrategia. En el caso de los tableros vamos a convertirlos a una lista de 1 dimensión para que así podamos trabajar tanto con filas, columnas y tableros como si fueran un array de 9 posiciones. En el siguiente ejemplo con el cual vamos a ver las dos estrategias ya estaremos utilizando arrays de 9 posiciones para facilitar la comprensión. \n",
    "<br><br>\n",
    "<b>NOTA: </b> Para comprender cómo un algoritmo es mejor que otro debemos conocer la <b>Notación Big O</b> ya que nos permite comparar los algoritmos entre sí con una notación matemática que nos da información acerca de cada uno de los planteamientos. Si desconoces cómo funciona esta notación te dejo un enlace que puedes visitar.\n",
    "<a href=\"https://www.freecodecamp.org/espanol/news/hoja-de-trucos-big-o/#:~:text=La%20notaci%C3%B3n%20Big%20O%20es,el%20tama%C3%B1o%20de%20su%20entrada.\">Qué es la Notación Big O [Freecodecamp]</a>\n",
    "<br><br>"
   ]
  },
  {
   "cell_type": "code",
   "execution_count": 32,
   "id": "e94d3ea3-0f0e-4ec3-9cf7-4fd9e0aefc61",
   "metadata": {},
   "outputs": [
    {
     "name": "stdout",
     "output_type": "stream",
     "text": [
      "Revisamos el listado válido: \n",
      "True\n",
      "Revisamos el listado no válido: \n",
      "False\n",
      "\n",
      "\n"
     ]
    }
   ],
   "source": [
    "# Primera estrategia para saber si el listado de números es válido \n",
    "# Revisar si un número está repetido\n",
    "listadoValido = [9,5,3,2,1,6,8,7,4]\n",
    "listadoNoValido = [9,5,3,2,1,9,8,4,8]\n",
    "\n",
    "def esListadoValido_Repeticion(numeros):\n",
    "    for i, numeroMirar in enumerate(numeros):\n",
    "        for j, numero in enumerate(numeros):\n",
    "            if i != j and numeroMirar == numero:\n",
    "                return False\n",
    "    return True\n",
    "\n",
    "# Revisamos el listadoVálido y nos debería devolver True\n",
    "print(\"Revisamos el listado válido: \")\n",
    "print(esListadoValido_Repeticion(listadoValido))\n",
    "# Revisamos el listadoNoVálido y nos debería devolver False\n",
    "print(\"Revisamos el listado no válido: \")\n",
    "print(esListadoValido_Repeticion(listadoNoValido))\n",
    "print(\"\\n\")"
   ]
  },
  {
   "cell_type": "markdown",
   "id": "46d853e5-828a-4d60-899f-d648a80afe74",
   "metadata": {},
   "source": [
    "<h3>Estrategia 1: Revisar que el número no esté repetido</h3>\n",
    "Si nos damos cuenta el método <i>esListadoValido_Repeticion</i> funciona de la siguiente forma:\n",
    "<ol>\n",
    "    <li>Revisamos cada número del listado <i>(primer bucle for)</i></li>\n",
    "    <li>En cada revisión miramos que no se repita con el resto <i>(segundo bucle for)</i></li>\n",
    "</ol>\n",
    "Cada bucle for lleva una complejidad O(n) y al estar anidados este <b>método tiene complejidad O(n<sup>2</sup>)</b>, llamada complejidad cuadrática."
   ]
  },
  {
   "cell_type": "code",
   "execution_count": 14,
   "id": "cae94d92-908c-484a-8272-a324cd7f24c1",
   "metadata": {},
   "outputs": [
    {
     "name": "stdout",
     "output_type": "stream",
     "text": [
      "Revisamos el listado válido: \n",
      "True\n",
      "Revisamos el listado no válido: \n",
      "False\n",
      "\n",
      "\n"
     ]
    }
   ],
   "source": [
    "# Segunda estrategia para saber si el listado de números es válido \n",
    "# Comparar el listado con el conjunto [1,2,3,4,5,6,7,8,9]\n",
    "listadoValido = [9, 5, 3, 2, 1, 6, 8, 7, 4]\n",
    "listadoNoValido = [9, 5, 3, 2, 1, 9, 8, 4, 8]\n",
    "\n",
    "def esListadoValido_Conjunto(numeros):\n",
    "    # Crear un conjunto con los números del 1 al 9\n",
    "    numeros_validos = set(range(1, 10))\n",
    "    # Convertir la lista a un conjunto\n",
    "    numeros_fila = set(numeros)\n",
    "    # Verificar si los conjuntos son iguales\n",
    "    return numeros_fila == numeros_validos\n",
    "\n",
    "# Revisamos el listadoVálido y nos debería devolver True\n",
    "print(\"Revisamos el listado válido: \")\n",
    "print(esListadoValido_Conjunto(listadoValido))\n",
    "# Revisamos el listadoNoVálido y nos debería devolver False\n",
    "print(\"Revisamos el listado no válido: \")\n",
    "print(esListadoValido_Conjunto(listadoNoValido))\n",
    "print(\"\\n\")"
   ]
  },
  {
   "cell_type": "markdown",
   "id": "7a9fbe3b-117d-487b-b77f-b4321c34c97e",
   "metadata": {},
   "source": [
    "<h3>Estrategia 2: Revisar que esté en el conjunto [1,2,3,4,5,6,7,8,9]</h3>\n",
    "Si nos damos cuenta el método <i>esListadoValido_Conjunto</i> funciona de la siguiente forma:\n",
    "<ol>\n",
    "    <li>Creamos el conjunto válido <i>(set(range(1,10))</i></li>\n",
    "    <li>Crear el conjunto a partir del listado  <i>(set(numeros))</i></li>\n",
    "</ol>\n",
    "La primera operación tiene una complejidad de O(1) y la de crear el conjunto a partir del listado tiene complejidad O(n).\n",
    "<br>\n",
    "Con esta información podemos decir que la <b>complejidad de este método es O(n)</b>."
   ]
  },
  {
   "attachments": {},
   "cell_type": "markdown",
   "id": "ec04f0c6-09bd-44f2-9172-87d2338c6cb3",
   "metadata": {},
   "source": [
    "<h3>Qué estrategia/método es el mejor</h3>\n",
    "En este caso tenemos dos métodos que resuelven el mismo problema pero lo hacen de formas diferentes:\n",
    "<ol>\n",
    "    <li>Comprobar repetición: O(n<sup>2</sup>)</li>\n",
    "    <li>Comprobar conjunto: O(n)</li>\n",
    "</ol>\n",
    "Para entender cuál es mejor vamos a ver el siguiente gráfico de cómo son las complejidades:"
   ]
  },
  {
   "cell_type": "code",
   "execution_count": 15,
   "id": "0f80f3f2-d8d5-4e04-b7fc-e6c7c762e6db",
   "metadata": {},
   "outputs": [
    {
     "data": {
      "image/png": "[encoded data removed]",
      "text/plain": [
       "<Figure size 1000x600 with 1 Axes>"
      ]
     },
     "metadata": {},
     "output_type": "display_data"
    }
   ],
   "source": [
    "import matplotlib.pyplot as plt\n",
    "import numpy as np\n",
    "\n",
    "# Generar un rango de valores de n\n",
    "n = np.arange(1, 21)\n",
    "\n",
    "# Calcular las complejidades O(n) y O(n^2)\n",
    "O_n = n\n",
    "O_n2 = n ** 2\n",
    "\n",
    "# Crear la gráfica\n",
    "plt.figure(figsize=(10, 6))\n",
    "plt.plot(n, O_n, label='O(n)', color='blue')\n",
    "plt.plot(n, O_n2, label='O(n^2)', color='red')\n",
    "\n",
    "# Agregar títulos y etiquetas\n",
    "plt.title('Complejidades O(n) y O(n^2)')\n",
    "plt.xlabel('Tamaño del problema (n)')\n",
    "plt.ylabel('Tiempo de ejecución (T)')\n",
    "plt.legend()\n",
    "plt.grid(True)\n",
    "\n",
    "# Mostrar la gráfica\n",
    "plt.show()"
   ]
  },
  {
   "cell_type": "markdown",
   "id": "22e8fe6b-1fe5-4e38-939e-4e1f1f42a3fc",
   "metadata": {},
   "source": [
    "Como podemos observar en la gráfica, la <b>complejidad lineal O(n)</b> nos permite tratar los elementos en menor tiempo que la <b>complejidad cuadrática O(n<sup>2</sup>)</b> por lo que la estrategia 2, la del conjunto, es la más óptima.\n",
    "<br><br>\n",
    "Podríamos pensar que al trabajar con arrays de 9 elementos el tiempo no se diferenciaría en exceso, pero cuando se empiezan a acumular muchas operaciones las complejidades se van sumando por lo que es, siempre que podamos, interesante utilizar el algoritmo más óptimo para cada caso en el que estemos trabajando.\n",
    "<br><br>\n",
    "Comprendida esta primera parte de cómo comparar algoritmos, vamos a empezar a construir nuestra solución para resolver Sudokus 😊"
   ]
  }
 ],
 "metadata": {
  "kernelspec": {
   "display_name": "Python 3 (ipykernel)",
   "language": "python",
   "name": "python3"
  },
  "language_info": {
   "codemirror_mode": {
    "name": "ipython",
    "version": 3
   },
   "file_extension": ".py",
   "mimetype": "text/x-python",
   "name": "python",
   "nbconvert_exporter": "python",
   "pygments_lexer": "ipython3",
   "version": "3.11.7"
  }
 },
 "nbformat": 4,
 "nbformat_minor": 5
}
